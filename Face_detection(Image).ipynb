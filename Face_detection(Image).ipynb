{
 "cells": [
  {
   "cell_type": "code",
   "execution_count": 25,
   "id": "76648ed4",
   "metadata": {},
   "outputs": [],
   "source": [
    "import cv2 as cv\n",
    "img=cv.imread(\"CAST.jpg\")\n",
    "img_grey=cv.cvtColor(img,cv.COLOR_BGR2GRAY)\n",
    "facecascade=cv.CascadeClassifier(\"haarcascade_frontalface_default.xml\")\n",
    "faces=facecascade.detectMultiScale(img_grey,1.8,2,flags=cv.CASCADE_SCALE_IMAGE,minSize=(30,30))\n",
    "for x,y,w,h in faces:\n",
    "    cv.rectangle(img,(x,y),(x+w,y+h),(0,255,0),2)\n",
    "    cv.imshow(\"Img\",img)\n",
    "k=cv.waitKey(0)\n",
    "if k==ord('q'):\n",
    "    cv.destroyAllWindows()"
   ]
  },
  {
   "cell_type": "code",
   "execution_count": null,
   "id": "27c73e74",
   "metadata": {},
   "outputs": [],
   "source": []
  }
 ],
 "metadata": {
  "kernelspec": {
   "display_name": "Python 3",
   "language": "python",
   "name": "python3"
  },
  "language_info": {
   "codemirror_mode": {
    "name": "ipython",
    "version": 3
   },
   "file_extension": ".py",
   "mimetype": "text/x-python",
   "name": "python",
   "nbconvert_exporter": "python",
   "pygments_lexer": "ipython3",
   "version": "3.8.8"
  }
 },
 "nbformat": 4,
 "nbformat_minor": 5
}
